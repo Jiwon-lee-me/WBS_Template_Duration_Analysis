{
 "cells": [
  {
   "cell_type": "markdown",
   "id": "22fa33b1-d47b-493d-836b-2a8548cae271",
   "metadata": {},
   "source": [
    "# **WBS Template Duration Analysis**"
   ]
  },
  {
   "cell_type": "markdown",
   "id": "26f1ef72-0a03-4d5c-9d09-d8a4b938af35",
   "metadata": {},
   "source": [
    "#### *If you need to install packages below, remove '#' and run the code below*"
   ]
  },
  {
   "cell_type": "code",
   "execution_count": null,
   "id": "b5df547c-3c55-469a-a75c-3803007564b7",
   "metadata": {
    "vscode": {
     "languageId": "r"
    }
   },
   "outputs": [],
   "source": [
    "#install.packages(\"ggplot2\")\n",
    "#install.packages(\"moments\")\n",
    "#install.packages(\"mltools\")\n",
    "#install.packages(\"caret\")\n",
    "#install.packages(\"writexl\")\n",
    "#install.packages(\"reshape2\")\n",
    "#install.packages(\"dplyr\")"
   ]
  },
  {
   "cell_type": "markdown",
   "id": "bb685280-ae80-461f-bed4-4507802cee95",
   "metadata": {},
   "source": [
    "#### *Load required libraries*"
   ]
  },
  {
   "cell_type": "code",
   "execution_count": null,
   "id": "4ae298ea-659d-4597-8f4a-3361272104bd",
   "metadata": {
    "vscode": {
     "languageId": "r"
    }
   },
   "outputs": [],
   "source": [
    "library(readxl)\n",
    "library(dplyr)\n",
    "library(mltools)\n",
    "library(caret)\n",
    "library(data.table)\n",
    "library(reshape2)\n",
    "library(writexl)\n",
    "library(ggplot2)\n",
    "library(moments)\n",
    "library(MASS)\n",
    "library(reshape2)"
   ]
  },
  {
   "cell_type": "markdown",
   "id": "a9f5c5a7-7343-434c-9eea-6d07f49c5a09",
   "metadata": {},
   "source": [
    "#### *Enter your file path and run the code below*"
   ]
  },
  {
   "cell_type": "code",
   "execution_count": null,
   "id": "477d0ce9-4104-41a2-92bd-66333600df6a",
   "metadata": {
    "vscode": {
     "languageId": "r"
    }
   },
   "outputs": [],
   "source": [
    "# Read Excel\n",
    "MITB_CELL_S <- read_excel(\"C:\\\\Users\\\\LG\\\\Desktop\\\\IBT\\\\배치부서특화\\\\과제_8월\\\\WBS일정계획\\\\raw data\\\\2차추출_all\\\\final_dataset\\\\소형_S_ver3.xlsx\")\n",
    "MITB_CELL_A <- read_excel(\"C:\\\\Users\\\\LG\\\\Desktop\\\\IBT\\\\배치부서특화\\\\과제_8월\\\\WBS일정계획\\\\raw data\\\\2차추출_all\\\\final_dataset\\\\소형_A_ver3.xlsx\")\n",
    "MITB_CELL_B <- read_excel(\"C:\\\\Users\\\\LG\\\\Desktop\\\\IBT\\\\배치부서특화\\\\과제_8월\\\\WBS일정계획\\\\raw data\\\\2차추출_all\\\\final_dataset\\\\소형_B_ver3.xlsx\")\n",
    "\n",
    "EV_CELL_S <- read_excel(\"C:\\\\Users\\\\LG\\\\Desktop\\\\IBT\\\\배치부서특화\\\\과제_8월\\\\WBS일정계획\\\\raw data\\\\2차추출_all\\\\final_dataset\\\\자동차_S_ver3.xlsx\")\n",
    "EV_CELL_A <- read_excel(\"C:\\\\Users\\\\LG\\\\Desktop\\\\IBT\\\\배치부서특화\\\\과제_8월\\\\WBS일정계획\\\\raw data\\\\2차추출_all\\\\final_dataset\\\\자동차_A_ver3.xlsx\")\n",
    "EV_CELL_B <- read_excel(\"C:\\\\Users\\\\LG\\\\Desktop\\\\IBT\\\\배치부서특화\\\\과제_8월\\\\WBS일정계획\\\\raw data\\\\2차추출_all\\\\final_dataset\\\\자동차_B_ver3.xlsx\")\n",
    "\n",
    "# View(MITB_CELL_S) # not supported in Jupyter R Kernel\n",
    "table(MITB_CELL_S$PERIOD_DAYS)"
   ]
  },
  {
   "cell_type": "code",
   "execution_count": null,
   "id": "296794ae-b2a7-4eec-942a-622838c1df03",
   "metadata": {
    "vscode": {
     "languageId": "r"
    }
   },
   "outputs": [],
   "source": [
    "length(EV_CELL_S) #63\n",
    "#length(EV_CELL_A) #63\n",
    "#length(EV_CELL_B) #63\n",
    "\n",
    "#length(MITB_CELL_S) #63\n",
    "#length(MITB_CELL_A) #63\n",
    "#length(MITB_CELL_B) #63\n",
    "\n",
    "nrow(EV_CELL_S) #54\n",
    "nrow(EV_CELL_A) #41\n",
    "nrow(EV_CELL_B) #84\n",
    "# total: 179\n",
    "54+41+84\n",
    "\n",
    "nrow(MITB_CELL_S) #170\n",
    "nrow(MITB_CELL_A) #189\n",
    "nrow(MITB_CELL_B) #500\n",
    "# total: 859\n",
    "170+189+500\n",
    "\n",
    "# View(MITB_CELL_S) # 671 -> 602 # not supported in Jupyter R Kernel"
   ]
  },
  {
   "cell_type": "markdown",
   "id": "a5d5e8cc-6619-40c3-90cd-5afe1c0c2e7f",
   "metadata": {},
   "source": [
    "## **Data Preprocessing**"
   ]
  },
  {
   "cell_type": "markdown",
   "id": "b9a91d05-91d9-4074-8adb-5016ae815254",
   "metadata": {},
   "source": [
    "#### *Assign the Model Grade & Business Unit Code*"
   ]
  },
  {
   "cell_type": "code",
   "execution_count": null,
   "id": "1c8af7a2-3f4c-4353-a32a-9fedc848de77",
   "metadata": {
    "vscode": {
     "languageId": "r"
    }
   },
   "outputs": [],
   "source": [
    "EV_CELL_S[ , \"MODEL_GRADE\"] <- \"S\"\n",
    "EV_CELL_A[ , \"MODEL_GRADE\"] <- \"A\"\n",
    "EV_CELL_B[ , \"MODEL_GRADE\"] <- \"B\"\n",
    "\n",
    "MITB_CELL_S[ , \"MODEL_GRADE\"] <- \"S\"\n",
    "MITB_CELL_A[ , \"MODEL_GRADE\"] <- \"A\"\n",
    "MITB_CELL_B[ , \"MODEL_GRADE\"] <- \"B\"\n",
    "\n",
    "EV_CELL_S[ , \"BUSINESS_UNIT_CODE\"] <- \"EV\"\n",
    "EV_CELL_A[ , \"BUSINESS_UNIT_CODE\"] <- \"EV\"\n",
    "EV_CELL_B[ , \"BUSINESS_UNIT_CODE\"] <- \"EV\"\n",
    "\n",
    "MITB_CELL_S[ , \"BUSINESS_UNIT_CODE\"] <- \"MITB\"\n",
    "MITB_CELL_A[ , \"BUSINESS_UNIT_CODE\"] <- \"MITB\"\n",
    "MITB_CELL_B[ , \"BUSINESS_UNIT_CODE\"] <- \"MITB\"\n",
    "\n",
    "length(MITB_CELL_S) #63 -> 65\n",
    "nrow(MITB_CELL_S) #170"
   ]
  },
  {
   "cell_type": "markdown",
   "id": "51667223-fdb8-4b76-9d69-44e15c910b84",
   "metadata": {},
   "source": [
    "#### *Check the Type of PERIOD_DAYS and PREIOD_ACTUAL*"
   ]
  },
  {
   "cell_type": "code",
   "execution_count": null,
   "id": "169f1e69-319c-422c-8371-8163164695d0",
   "metadata": {
    "vscode": {
     "languageId": "r"
    }
   },
   "outputs": [],
   "source": [
    "# EV, MITB 모두 PERIOD_ACTUAL 만 Character type 임\n",
    "head(EV_CELL_S$PERIOD_DAYS)\n",
    "#EV_CELL_A$PERIOD_DAYS\n",
    "#EV_CELL_B$PERIOD_DAYS\n",
    "\n",
    "#MITB_CELL_S$PERIOD_DAYS\n",
    "#MITB_CELL_A$PERIOD_DAYS\n",
    "#MITB_CELL_B$PERIOD_DAYS\n",
    "\n",
    "#EV_CELL_S$PERIOD_ACTUAL\n",
    "#EV_CELL_A$PERIOD_ACTUAL\n",
    "#EV_CELL_B$PERIOD_ACTUAL\n",
    "\n",
    "#MITB_CELL_S$PERIOD_ACTUAL\n",
    "#MITB_CELL_A$PERIOD_ACTUAL\n",
    "#MITB_CELL_B$PERIOD_ACTUAL # Advanced Copy"
   ]
  },
  {
   "cell_type": "markdown",
   "id": "9a7e5e56-245f-4ddb-bd8b-d44d0220a885",
   "metadata": {},
   "source": [
    "#### *Delete \"[NULL]\" (character type)*"
   ]
  },
  {
   "cell_type": "code",
   "execution_count": null,
   "id": "5c0ffc8b-0049-44da-a774-826b06e08f45",
   "metadata": {
    "vscode": {
     "languageId": "r"
    }
   },
   "outputs": [],
   "source": [
    "EV_CELL_S <- EV_CELL_S[!(EV_CELL_S$PERIOD_ACTUAL == \"[NULL]\" ), ]\n",
    "EV_CELL_A <- EV_CELL_A[!(EV_CELL_A$PERIOD_ACTUAL == \"[NULL]\" ), ]\n",
    "EV_CELL_B <- EV_CELL_B[!(EV_CELL_B$PERIOD_ACTUAL == \"[NULL]\" ), ]\n",
    "\n",
    "MITB_CELL_S <- MITB_CELL_S[!(MITB_CELL_S$PERIOD_ACTUAL == \"[NULL]\" ), ]\n",
    "MITB_CELL_A <- MITB_CELL_A[!(MITB_CELL_A$PERIOD_ACTUAL == \"[NULL]\" ), ]\n",
    "MITB_CELL_B <- MITB_CELL_B[!(MITB_CELL_B$PERIOD_ACTUAL == \"[NULL]\" ), ]"
   ]
  },
  {
   "cell_type": "markdown",
   "id": "91370ffa-f1b1-468c-a7c2-513cbe07f0d7",
   "metadata": {},
   "source": [
    "#### *Change Data Type of Period*"
   ]
  },
  {
   "cell_type": "code",
   "execution_count": null,
   "id": "cdcba2fc-caed-4554-9f52-157c3f45c8fa",
   "metadata": {
    "vscode": {
     "languageId": "r"
    }
   },
   "outputs": [],
   "source": [
    "EV_CELL_S$PERIOD_ACTUAL <- as.numeric(EV_CELL_S$PERIOD_ACTUAL)\n",
    "EV_CELL_A$PERIOD_ACTUAL <- as.numeric(EV_CELL_A$PERIOD_ACTUAL)\n",
    "EV_CELL_B$PERIOD_ACTUAL <- as.numeric(EV_CELL_B$PERIOD_ACTUAL)\n",
    "\n",
    "MITB_CELL_S$PERIOD_ACTUAL <- as.numeric(MITB_CELL_S$PERIOD_ACTUAL)\n",
    "MITB_CELL_A$PERIOD_ACTUAL <- as.numeric(MITB_CELL_A$PERIOD_ACTUAL)\n",
    "MITB_CELL_B$PERIOD_ACTUAL <- as.numeric(MITB_CELL_B$PERIOD_ACTUAL)"
   ]
  },
  {
   "cell_type": "markdown",
   "id": "2e252c08-08c4-4c78-b320-8cc5dcff459d",
   "metadata": {},
   "source": [
    "#### *Check the type of PERIOD_ACTUAL and PERIOD_DAYS again*"
   ]
  },
  {
   "cell_type": "code",
   "execution_count": null,
   "id": "6da7d178-067a-4062-b438-ce51d7819c6d",
   "metadata": {
    "vscode": {
     "languageId": "r"
    }
   },
   "outputs": [],
   "source": [
    "# all double\n",
    "typeof(EV_CELL_S$PERIOD_DAYS) # character -> double\n",
    "typeof(EV_CELL_A$PERIOD_ACTUAL) # character -> double\n",
    "typeof(EV_CELL_B$PERIOD_DAYS) # character -> double\n",
    "\n",
    "typeof(MITB_CELL_S$PERIOD_ACTUAL) # character -> double\n",
    "typeof(MITB_CELL_A$PERIOD_DAYS) # character -> double\n",
    "typeof(MITB_CELL_B$PERIOD_ACTUAL) # character -> double"
   ]
  },
  {
   "cell_type": "markdown",
   "id": "7e871975-2487-484b-ab26-6a25afee9fb9",
   "metadata": {},
   "source": [
    "#### *Run the code below when you need to delete NA Values*"
   ]
  },
  {
   "cell_type": "code",
   "execution_count": null,
   "id": "3a645e1a-3262-498b-95a4-e5f8d49e1511",
   "metadata": {
    "vscode": {
     "languageId": "r"
    }
   },
   "outputs": [],
   "source": [
    "EV_CELL_S <- EV_CELL_S %>% filter(!is.na(PERIOD_ACTUAL) & !is.na(PERIOD_DAYS))\n",
    "EV_CELL_A <- EV_CELL_A %>% filter(!is.na(PERIOD_ACTUAL) & !is.na(PERIOD_DAYS))\n",
    "EV_CELL_B <- EV_CELL_B %>% filter(!is.na(PERIOD_ACTUAL) & !is.na(PERIOD_DAYS))\n",
    "\n",
    "MITB_CELL_S <- MITB_CELL_S %>% filter(!is.na(PERIOD_ACTUAL) & !is.na(PERIOD_DAYS))\n",
    "MITB_CELL_A <- MITB_CELL_A %>% filter(!is.na(PERIOD_ACTUAL) & !is.na(PERIOD_DAYS))\n",
    "MITB_CELL_B <- MITB_CELL_B %>% filter(!is.na(PERIOD_ACTUAL) & !is.na(PERIOD_DAYS))"
   ]
  },
  {
   "cell_type": "markdown",
   "id": "8aaddcbd-2ba3-4ffb-a401-ba0de913e22b",
   "metadata": {},
   "source": [
    "#### *Check the presence of NA for the PERIOD_ACTUAL and PERIOD_DAYS*"
   ]
  },
  {
   "cell_type": "code",
   "execution_count": null,
   "id": "7b651453-da31-4295-9563-75c38db14cbb",
   "metadata": {
    "vscode": {
     "languageId": "r"
    }
   },
   "outputs": [],
   "source": [
    "# all zero\n",
    "sum(is.na(EV_CELL_S$PERIOD_ACTUAL)) #0\n",
    "sum(is.na(EV_CELL_A$PERIOD_ACTUAL)) #0\n",
    "sum(is.na(EV_CELL_B$PERIOD_ACTUAL)) #0\n",
    "\n",
    "sum(is.na(MITB_CELL_S$PERIOD_ACTUAL)) #0\n",
    "sum(is.na(MITB_CELL_A$PERIOD_ACTUAL)) #0\n",
    "sum(is.na(MITB_CELL_B$PERIOD_ACTUAL)) #0\n",
    "\n",
    "sum(is.na(EV_CELL_S$PERIOD_DAYS)) #0\n",
    "sum(is.na(EV_CELL_A$PERIOD_DAYS)) #0\n",
    "sum(is.na(EV_CELL_B$PERIOD_DAYS)) #0\n",
    "\n",
    "sum(is.na(MITB_CELL_S$PERIOD_DAYS)) #0 \n",
    "sum(is.na(MITB_CELL_A$PERIOD_DAYS)) #0\n",
    "sum(is.na(MITB_CELL_B$PERIOD_DAYS)) #0"
   ]
  },
  {
   "cell_type": "markdown",
   "id": "3c7d7ec2-ff34-4c4d-bf2e-a30b465502ef",
   "metadata": {},
   "source": [
    "#### *Calculate the differences between Period_Plan and Period_Actual*"
   ]
  },
  {
   "cell_type": "code",
   "execution_count": null,
   "id": "2b18fa95-7f89-48bf-b83b-f6fea9db5b7c",
   "metadata": {
    "vscode": {
     "languageId": "r"
    }
   },
   "outputs": [],
   "source": [
    "EV_CELL_S[, \"Diff_Period\"] <- EV_CELL_S$PERIOD_ACTUAL - EV_CELL_S$PERIOD_DAYS\n",
    "EV_CELL_A[, \"Diff_Period\"] <- EV_CELL_A$PERIOD_ACTUAL - EV_CELL_A$PERIOD_DAYS\n",
    "EV_CELL_B[, \"Diff_Period\"] <- EV_CELL_B$PERIOD_ACTUAL - EV_CELL_B$PERIOD_DAYS\n",
    "\n",
    "MITB_CELL_S[, \"Diff_Period\"] <- MITB_CELL_S$PERIOD_ACTUAL - MITB_CELL_S$PERIOD_DAYS\n",
    "MITB_CELL_A[, \"Diff_Period\"] <- MITB_CELL_A$PERIOD_ACTUAL - MITB_CELL_A$PERIOD_DAYS\n",
    "MITB_CELL_B[, \"Diff_Period\"] <- MITB_CELL_B$PERIOD_ACTUAL - MITB_CELL_B$PERIOD_DAYS"
   ]
  },
  {
   "cell_type": "markdown",
   "id": "0fb82d03-9277-4d5c-9a34-0fe168afc7ac",
   "metadata": {},
   "source": [
    "#### *Check the presence of NA for the Diff_Period*"
   ]
  },
  {
   "cell_type": "code",
   "execution_count": null,
   "id": "a1df8d0d-6f87-455c-99ad-3ee2173eed2a",
   "metadata": {
    "vscode": {
     "languageId": "r"
    }
   },
   "outputs": [],
   "source": [
    "# all zero\n",
    "sum(is.na(EV_CELL_S$Diff_Period)) #0 \n",
    "sum(is.na(EV_CELL_A$Diff_Period)) #0\n",
    "sum(is.na(EV_CELL_B$Diff_Period)) #0\n",
    "\n",
    "sum(is.na(MITB_CELL_S$Diff_Period)) #0 \n",
    "sum(is.na(MITB_CELL_A$Diff_Period)) #0\n",
    "sum(is.na(MITB_CELL_B$Diff_Period)) #0"
   ]
  },
  {
   "cell_type": "code",
   "execution_count": null,
   "id": "c4edb96a-0eaa-4672-9e2d-4fbc50597e6f",
   "metadata": {
    "vscode": {
     "languageId": "r"
    }
   },
   "outputs": [],
   "source": [
    "# 66 is normal\n",
    "length(EV_CELL_S) #63 -> 66\n",
    "length(EV_CELL_A) #63 -> 66\n",
    "length(EV_CELL_B) #63 -> 66\n",
    "\n",
    "length(MITB_CELL_S) #63 -> 66\n",
    "length(MITB_CELL_A) #63 -> 66\n",
    "length(MITB_CELL_B) #63 -> 66"
   ]
  },
  {
   "cell_type": "markdown",
   "id": "8f7a616d-ca47-47f5-80e3-cba428b6bb7d",
   "metadata": {},
   "source": [
    "#### *Count the number of the rows*"
   ]
  },
  {
   "cell_type": "code",
   "execution_count": null,
   "id": "59ccedff-ddf7-4b4d-be0f-b062fc3918ad",
   "metadata": {
    "vscode": {
     "languageId": "r"
    }
   },
   "outputs": [],
   "source": [
    "nrow(EV_CELL_S) #49\n",
    "nrow(EV_CELL_A) #37\n",
    "nrow(EV_CELL_B) #82\n",
    "\n",
    "nrow(MITB_CELL_S) #154\n",
    "nrow(MITB_CELL_A) #174\n",
    "nrow(MITB_CELL_B) #490"
   ]
  },
  {
   "cell_type": "markdown",
   "id": "499be17c-de37-4b5e-880b-455b6576f08f",
   "metadata": {},
   "source": [
    "#### *Select the required columns*"
   ]
  },
  {
   "cell_type": "code",
   "execution_count": null,
   "id": "6db87faa-113b-4750-ba31-e7fcd319175d",
   "metadata": {
    "vscode": {
     "languageId": "r"
    }
   },
   "outputs": [],
   "source": [
    "names(EV_CELL_S)\n",
    "\n",
    "EV_CELL_S <- EV_CELL_S[, c(\"PJT_OBID\", \"ACTIVITY_ID\", \"MODEL_NAME\", \"ACTIVITY_TYPE_CODE\", \"SORT_ORDER_NO\", \"LEVEL\", \"LV_DEPTH\", \n",
    "                           \"IS_CHK_EXIST_CHILD\", \"ACTIVITY_TITLE\", \"PERIOD_DAYS\", \"EXE_RATE\", \"RESULT_START_DATE\"\n",
    "                           , \"PERIOD_ACTUAL\", \"MILESTONE\", \"ACTIVITY_TYPE_NAME\", \"MODEL_GRADE\", \"BUSINESS_UNIT_CODE\", \"Diff_Period\")]\n",
    "\n",
    "EV_CELL_A <- EV_CELL_A[, c(\"PJT_OBID\", \"ACTIVITY_ID\", \"MODEL_NAME\", \"ACTIVITY_TYPE_CODE\", \"SORT_ORDER_NO\", \"LEVEL\", \"LV_DEPTH\", \n",
    "                           \"IS_CHK_EXIST_CHILD\", \"ACTIVITY_TITLE\", \"PERIOD_DAYS\", \"EXE_RATE\", \"RESULT_START_DATE\"\n",
    "                           , \"PERIOD_ACTUAL\", \"MILESTONE\", \"ACTIVITY_TYPE_NAME\", \"MODEL_GRADE\", \"BUSINESS_UNIT_CODE\", \"Diff_Period\")]\n",
    "\n",
    "EV_CELL_B <- EV_CELL_B[, c(\"PJT_OBID\", \"ACTIVITY_ID\", \"MODEL_NAME\", \"ACTIVITY_TYPE_CODE\", \"SORT_ORDER_NO\", \"LEVEL\", \"LV_DEPTH\", \n",
    "                           \"IS_CHK_EXIST_CHILD\", \"ACTIVITY_TITLE\", \"PERIOD_DAYS\", \"EXE_RATE\", \"RESULT_START_DATE\"\n",
    "                           , \"PERIOD_ACTUAL\", \"MILESTONE\", \"ACTIVITY_TYPE_NAME\", \"MODEL_GRADE\", \"BUSINESS_UNIT_CODE\", \"Diff_Period\")]\n",
    "\n",
    "MITB_CELL_S <- MITB_CELL_S[, c(\"PJT_OBID\", \"ACTIVITY_ID\", \"MODEL_NAME\", \"ACTIVITY_TYPE_CODE\", \"SORT_ORDER_NO\", \"LEVEL\", \"LV_DEPTH\", \n",
    "                               \"IS_CHK_EXIST_CHILD\", \"ACTIVITY_TITLE\", \"PERIOD_DAYS\", \"EXE_RATE\", \"RESULT_START_DATE\"\n",
    "                               , \"PERIOD_ACTUAL\", \"MILESTONE\", \"ACTIVITY_TYPE_NAME\", \"MODEL_GRADE\", \"BUSINESS_UNIT_CODE\", \"Diff_Period\")]\n",
    "\n",
    "\n",
    "MITB_CELL_A <- MITB_CELL_A[, c(\"PJT_OBID\", \"ACTIVITY_ID\", \"MODEL_NAME\", \"ACTIVITY_TYPE_CODE\", \"SORT_ORDER_NO\", \"LEVEL\", \"LV_DEPTH\", \n",
    "                               \"IS_CHK_EXIST_CHILD\", \"ACTIVITY_TITLE\", \"PERIOD_DAYS\", \"EXE_RATE\", \"RESULT_START_DATE\"\n",
    "                               , \"PERIOD_ACTUAL\", \"MILESTONE\", \"ACTIVITY_TYPE_NAME\", \"MODEL_GRADE\", \"BUSINESS_UNIT_CODE\", \"Diff_Period\")]\n",
    "\n",
    "MITB_CELL_B <- MITB_CELL_B[, c(\"PJT_OBID\", \"ACTIVITY_ID\", \"MODEL_NAME\", \"ACTIVITY_TYPE_CODE\", \"SORT_ORDER_NO\", \"LEVEL\", \"LV_DEPTH\", \n",
    "                               \"IS_CHK_EXIST_CHILD\", \"ACTIVITY_TITLE\", \"PERIOD_DAYS\", \"EXE_RATE\", \"RESULT_START_DATE\"\n",
    "                               , \"PERIOD_ACTUAL\", \"MILESTONE\", \"ACTIVITY_TYPE_NAME\", \"MODEL_GRADE\", \"BUSINESS_UNIT_CODE\", \"Diff_Period\")]\n",
    "# \"View\" is not supported in Jupyter R Kernel\n",
    "# View(EV_CELL_S)\n",
    "# View(EV_CELL_A)\n",
    "# View(EV_CELL_B)\n",
    "\n",
    "# View(MITB_CELL_S)\n",
    "# View(MITB_CELL_A)\n",
    "# View(MITB_CELL_B)"
   ]
  },
  {
   "cell_type": "markdown",
   "id": "9055c5ad-fdba-43f9-8fa2-fcbe63de4406",
   "metadata": {},
   "source": [
    "#### *Check the column count for the new data*"
   ]
  },
  {
   "cell_type": "code",
   "execution_count": null,
   "id": "53ae3cdb-e456-4058-ad0c-2c67ea00daa5",
   "metadata": {
    "vscode": {
     "languageId": "r"
    }
   },
   "outputs": [],
   "source": [
    "# 18 is normal\n",
    "length(EV_CELL_S) #65 -> 18\n",
    "length(EV_CELL_A) #65 -> 18\n",
    "length(EV_CELL_B) #65 -> 18\n",
    "\n",
    "length(MITB_CELL_S) #65 -> 18\n",
    "length(MITB_CELL_A) #65 -> 18\n",
    "length(MITB_CELL_B) #65 -> 18"
   ]
  },
  {
   "cell_type": "markdown",
   "id": "588a7ec7-cc9a-4a0c-aec1-2121950aaa20",
   "metadata": {},
   "source": [
    "#### *Date Formatting form POSIXIct to UTC Form*"
   ]
  },
  {
   "cell_type": "code",
   "execution_count": null,
   "id": "f4eef0ec-eae0-4f6f-8b24-ce6c45eb9cc6",
   "metadata": {
    "vscode": {
     "languageId": "r"
    }
   },
   "outputs": [],
   "source": [
    "head(EV_CELL_S$RESULT_START_DATE)\n",
    "#EV_CELL_A$RESULT_START_DATE\n",
    "#EV_CELL_B$RESULT_START_DATE\n",
    "\n",
    "#MITB_CELL_S$RESULT_START_DATE\n",
    "#MITB_CELL_A$RESULT_START_DATE\n",
    "#MITB_CELL_B$RESULT_START_DATE"
   ]
  },
  {
   "cell_type": "code",
   "execution_count": null,
   "id": "2ebc3533-1778-4562-89ec-ebaa96429f7d",
   "metadata": {
    "vscode": {
     "languageId": "r"
    }
   },
   "outputs": [],
   "source": [
    "# all double\n",
    "typeof(EV_CELL_S$RESULT_START_DATE)\n",
    "typeof(EV_CELL_A$RESULT_START_DATE)\n",
    "typeof(EV_CELL_B$RESULT_START_DATE)\n",
    "\n",
    "typeof(MITB_CELL_S$RESULT_START_DATE)\n",
    "typeof(MITB_CELL_A$RESULT_START_DATE)\n",
    "typeof(MITB_CELL_B$RESULT_START_DATE)"
   ]
  },
  {
   "cell_type": "code",
   "execution_count": null,
   "id": "05cccdb9-7b4b-4bae-9ad1-e21067337878",
   "metadata": {
    "vscode": {
     "languageId": "r"
    }
   },
   "outputs": [],
   "source": [
    "# dttm -> date\n",
    "EV_CELL_S[, \"RESULT_START_DATE\"] <- as.Date(EV_CELL_S$RESULT_START_DATE)\n",
    "EV_CELL_A[, \"RESULT_START_DATE\"] <- as.Date(EV_CELL_A$RESULT_START_DATE)\n",
    "EV_CELL_B[, \"RESULT_START_DATE\"] <- as.Date(EV_CELL_B$RESULT_START_DATE)\n",
    "\n",
    "MITB_CELL_S[, \"RESULT_START_DATE\"] <- as.Date(MITB_CELL_S$RESULT_START_DATE)\n",
    "MITB_CELL_A[, \"RESULT_START_DATE\"] <- as.Date(MITB_CELL_A$RESULT_START_DATE)\n",
    "MITB_CELL_B[, \"RESULT_START_DATE\"] <- as.Date(MITB_CELL_B$RESULT_START_DATE)"
   ]
  },
  {
   "cell_type": "markdown",
   "id": "1ef15c9f-ebc7-4d6a-a1df-ab6457a9fdef",
   "metadata": {},
   "source": [
    "#### *rbind to make our final_data_EV and final_data_MITB*"
   ]
  },
  {
   "cell_type": "code",
   "execution_count": null,
   "id": "58cd8917-b637-4497-8a87-5b8346e8f861",
   "metadata": {
    "vscode": {
     "languageId": "r"
    }
   },
   "outputs": [],
   "source": [
    "final_data_EV <- rbind(EV_CELL_S, EV_CELL_A)\n",
    "final_data_EV <- rbind(final_data_EV, EV_CELL_B)\n",
    "\n",
    "final_data_MITB <- rbind(MITB_CELL_S, MITB_CELL_A)\n",
    "final_data_MITB <- rbind(final_data_MITB, MITB_CELL_B)"
   ]
  },
  {
   "cell_type": "markdown",
   "id": "f5dd1609-8a0e-424a-8f89-40e69e2ed487",
   "metadata": {},
   "source": [
    "#### *info of the final_data*"
   ]
  },
  {
   "cell_type": "code",
   "execution_count": null,
   "id": "141765df-4f97-4c98-9ebd-bf98974a66dd",
   "metadata": {
    "vscode": {
     "languageId": "r"
    }
   },
   "outputs": [],
   "source": [
    "# View(final_data_EV) # not supported in Jupyter R Kernel\n",
    "length(final_data_EV) #18\n",
    "nrow(final_data_EV) #168\n",
    "\n",
    "# View(final_data_MITB) # not supported in Jupyter R Kernel\n",
    "length(final_data_MITB) #18\n",
    "nrow(final_data_MITB) #818\n",
    "colnames(final_data_MITB)"
   ]
  },
  {
   "cell_type": "markdown",
   "id": "91cb9b87-4506-46ac-a0d7-71b40fde09da",
   "metadata": {},
   "source": [
    "#### *delete the '[NULL]' (character) in the final_data*"
   ]
  },
  {
   "cell_type": "code",
   "execution_count": null,
   "id": "bcbac992-20ff-4f08-9454-37ad57c86b0b",
   "metadata": {
    "vscode": {
     "languageId": "r"
    }
   },
   "outputs": [],
   "source": [
    "final_data_EV <- final_data_EV[!(final_data_EV$ACTIVITY_TYPE_NAME == \"[NULL]\" ), ]\n",
    "final_data_MITB <- final_data_MITB[!(final_data_MITB$ACTIVITY_TYPE_NAME == \"[NULL]\" ), ]"
   ]
  },
  {
   "cell_type": "markdown",
   "id": "1b8c0b5c-cad0-49a6-b353-4c8223e7ee6f",
   "metadata": {},
   "source": [
    "#### *type of the ACTIVITY TYPE NAME*"
   ]
  },
  {
   "cell_type": "code",
   "execution_count": null,
   "id": "e1f7e2f6-85f2-49ab-b5ea-450baa24187a",
   "metadata": {
    "vscode": {
     "languageId": "r"
    }
   },
   "outputs": [],
   "source": [
    "typeof(final_data_EV$ACTIVITY_TYPE_NAME) # character\n",
    "typeof(final_data_MITB$ACTIVITY_TYPE_NAME) # character"
   ]
  },
  {
   "cell_type": "markdown",
   "id": "880f52a7-0421-4d94-ba72-ca6f1adabe17",
   "metadata": {},
   "source": [
    "#### *Only Keep CV, DV, PD, PV in the Activity Type Name*"
   ]
  },
  {
   "cell_type": "code",
   "execution_count": null,
   "id": "fa59d1e3-05f2-4938-8dc6-21c3eb7d1599",
   "metadata": {
    "vscode": {
     "languageId": "r"
    }
   },
   "outputs": [],
   "source": [
    "final_data_EV <- final_data_EV[(final_data_EV$ACTIVITY_TYPE_NAME == 'CV' | final_data_EV$ACTIVITY_TYPE_NAME == 'DV' \n",
    "                                | final_data_EV$ACTIVITY_TYPE_NAME == 'PD' | final_data_EV$ACTIVITY_TYPE_NAME == 'PV'), ]\n",
    "\n",
    "final_data_MITB <- final_data_MITB[(final_data_MITB$ACTIVITY_TYPE_NAME == 'CV' | final_data_MITB$ACTIVITY_TYPE_NAME == 'DV' \n",
    "                                    | final_data_MITB$ACTIVITY_TYPE_NAME == 'PD' | final_data_MITB$ACTIVITY_TYPE_NAME == 'PV'), ]"
   ]
  },
  {
   "cell_type": "markdown",
   "id": "3d5b6f3c-f616-4627-bbb6-ba49767f0c20",
   "metadata": {},
   "source": [
    "#### *Delete NA values in the Activity Type Name*"
   ]
  },
  {
   "cell_type": "code",
   "execution_count": null,
   "id": "64db5c5d-5328-4e17-a1c4-e927514b4b2e",
   "metadata": {
    "vscode": {
     "languageId": "r"
    }
   },
   "outputs": [],
   "source": [
    "final_data_EV <- final_data_EV %>% filter(!is.na(ACTIVITY_TYPE_NAME))\n",
    "final_data_MITB <- final_data_MITB %>% filter(!is.na(ACTIVITY_TYPE_NAME))\n",
    "\n",
    "head(final_data_EV$ACTIVITY_TYPE_NAME, 5)\n",
    "head(final_data_MITB$ACTIVITY_TYPE_NAME, 5)"
   ]
  },
  {
   "cell_type": "code",
   "execution_count": null,
   "id": "f1632b2e-1d28-45c2-8de2-33dae4c706e2",
   "metadata": {
    "vscode": {
     "languageId": "r"
    }
   },
   "outputs": [],
   "source": [
    "length(final_data_EV) #18\n",
    "nrow(final_data_EV) #127\n",
    "# View(final_data_EV) # not supported in Jupyter R Kernel\n",
    "\n",
    "length(final_data_MITB) #18\n",
    "nrow(final_data_MITB) #614\n",
    "# View(final_data_MITB) # not supported in Jupyter R Kernel"
   ]
  },
  {
   "cell_type": "markdown",
   "id": "88285c5b-2d04-4666-9691-0b032636630b",
   "metadata": {},
   "source": [
    "#### *encoding the column of ACTIVITY TYPE, MODEL_GRADE*"
   ]
  },
  {
   "cell_type": "code",
   "execution_count": null,
   "id": "680446e4-243e-421f-a639-f0a4289cb27b",
   "metadata": {
    "vscode": {
     "languageId": "r"
    }
   },
   "outputs": [],
   "source": [
    "final_data_encoding_EV <- dcast(data=final_data_EV, PJT_OBID+ACTIVITY_ID ~ MODEL_GRADE+ACTIVITY_TYPE_NAME, length)\n",
    "final_data_encoding_MITB <- dcast(data=final_data_MITB, PJT_OBID+ACTIVITY_ID ~ MODEL_GRADE+ACTIVITY_TYPE_NAME, length)"
   ]
  },
  {
   "cell_type": "markdown",
   "id": "247c6a6a-f042-4c76-b525-ecf147b7fdf4",
   "metadata": {},
   "source": [
    "#### *join the final_data_encoding (EV & MITB) and the origin data*"
   ]
  },
  {
   "cell_type": "code",
   "execution_count": null,
   "id": "36d45144-ba0d-486d-a14d-ba36e863c22f",
   "metadata": {
    "vscode": {
     "languageId": "r"
    }
   },
   "outputs": [],
   "source": [
    "final_join_data_EV <- inner_join(final_data_EV, final_data_encoding_EV, by=c('PJT_OBID', 'ACTIVITY_ID'))\n",
    "final_join_data_MITB <- inner_join(final_data_MITB, final_data_encoding_MITB, by=c('PJT_OBID', 'ACTIVITY_ID'))\n",
    "\n",
    "length(final_join_data_EV) #30\n",
    "nrow(final_join_data_EV) #127\n",
    "View(final_join_data_EV) # not supported in Jupyter R Kernel\n",
    "\n",
    "length(final_join_data_MITB) #30\n",
    "nrow(final_join_data_MITB) #614\n",
    "View(final_join_data_MITB) # not supported in Jupyter R Kernel"
   ]
  },
  {
   "cell_type": "markdown",
   "id": "50f0e071-f9cd-4b09-8311-3ef990e99b60",
   "metadata": {},
   "source": [
    "#### *Select only the required column*"
   ]
  },
  {
   "cell_type": "code",
   "execution_count": null,
   "id": "f594bdd2-8a96-4b43-9531-b04717d9102e",
   "metadata": {
    "vscode": {
     "languageId": "r"
    }
   },
   "outputs": [],
   "source": [
    "names(final_join_data_EV)\n",
    "names(final_join_data_MITB)\n",
    "\n",
    "final_join_data_EV <- final_join_data_EV[, c(\"PJT_OBID\", \"ACTIVITY_ID\", \"MODEL_NAME\", \"ACTIVITY_TYPE_CODE\", \"SORT_ORDER_NO\", \"LEVEL\", \"LV_DEPTH\", \n",
    "                                             \"IS_CHK_EXIST_CHILD\", \"ACTIVITY_TITLE\", \"PERIOD_DAYS\", \"EXE_RATE\", \"MODEL_GRADE\", \"BUSINESS_UNIT_CODE\", \"ACTIVITY_TYPE_NAME\"\n",
    "                                             , \"PERIOD_ACTUAL\", \"MILESTONE\", \"RESULT_START_DATE\", \"Diff_Period\", \"S_CV\", \"S_DV\", \"S_PD\", \"S_PV\", \"A_CV\", \"A_DV\", \"A_PD\", \"A_PV\", \"B_CV\", \"B_DV\", \"B_PD\", \"B_PV\")]\n",
    "\n",
    "final_join_data_MITB <- final_join_data_MITB[, c(\"PJT_OBID\", \"ACTIVITY_ID\", \"MODEL_NAME\", \"ACTIVITY_TYPE_CODE\", \"SORT_ORDER_NO\", \"LEVEL\", \"LV_DEPTH\", \n",
    "                                                 \"IS_CHK_EXIST_CHILD\", \"ACTIVITY_TITLE\", \"PERIOD_DAYS\", \"EXE_RATE\", \"MODEL_GRADE\", \"BUSINESS_UNIT_CODE\", \"ACTIVITY_TYPE_NAME\"\n",
    "                                                 , \"PERIOD_ACTUAL\", \"MILESTONE\", \"RESULT_START_DATE\", \"Diff_Period\", \"S_CV\", \"S_DV\", \"S_PD\", \"S_PV\", \"A_CV\", \"A_DV\", \"A_PD\", \"A_PV\", \"B_CV\", \"B_DV\", \"B_PD\", \"B_PV\")]"
   ]
  },
  {
   "cell_type": "markdown",
   "id": "73fefb91-8067-4935-9469-50ee8f45b768",
   "metadata": {},
   "source": [
    "## **Exploratory Data Analysis**"
   ]
  },
  {
   "cell_type": "markdown",
   "id": "5b879ff7-9194-47bd-aa4d-c6c67814212d",
   "metadata": {},
   "source": [
    "### **1. str**"
   ]
  },
  {
   "cell_type": "code",
   "execution_count": null,
   "id": "95b7a5f8-3b1f-4b1e-a23b-c24b6a398917",
   "metadata": {
    "vscode": {
     "languageId": "r"
    }
   },
   "outputs": [],
   "source": [
    "str(final_join_data_EV)\n",
    "str(final_join_data_MITB)\n",
    "\n",
    "names(final_join_data_EV)\n",
    "names(final_join_data_MITB)"
   ]
  },
  {
   "cell_type": "markdown",
   "id": "83051879-af99-4f92-a033-9c31e48bb4bc",
   "metadata": {},
   "source": [
    "#### *Calculate the Skewness*"
   ]
  },
  {
   "cell_type": "code",
   "execution_count": null,
   "id": "bcca1483-b931-4de2-9ef7-eababedefdbc",
   "metadata": {
    "vscode": {
     "languageId": "r"
    }
   },
   "outputs": [],
   "source": [
    "skewness(final_join_data_EV$PERIOD_DAYS)\n",
    "skewness(final_join_data_EV$PERIOD_ACTUAL)\n",
    "\n",
    "skewness(final_join_data_MITB$PERIOD_DAYS)\n",
    "skewness(final_join_data_MITB$PERIOD_ACTUAL)"
   ]
  },
  {
   "cell_type": "markdown",
   "id": "794b856a-361d-4217-9c46-80cbd0a1cc3a",
   "metadata": {},
   "source": [
    "#### *Histogram to check the Probability Density*"
   ]
  },
  {
   "cell_type": "code",
   "execution_count": null,
   "id": "90423e70-560b-4a58-ad30-a0e19e46c250",
   "metadata": {
    "vscode": {
     "languageId": "r"
    }
   },
   "outputs": [],
   "source": [
    "# Auto-mobile\n",
    "hist(final_join_data_EV$PERIOD_DAYS, breaks=25, probability=TRUE, main='PDF of PLANNING_PERIOD \\n (Auto Mobile)', \n",
    "     col='Navy', border='white', xlab='Right Skewed')\n",
    "lines(density(final_join_data_EV$PERIOD_DAYS), col='red') \n",
    "\n",
    "hist(final_join_data_EV$PERIOD_ACTUAL, breaks=25, probability=TRUE, main='PDF of ACTUAL_PERIOD \\n (Auto Mobile)', \n",
    "     col='Navy', border='white', xlab='Right Skewed')\n",
    "lines(density(final_join_data_EV$PERIOD_ACTUAL), col='red')\n",
    "\n",
    "# Mobile & IT\n",
    "hist(final_join_data_MITB$PERIOD_DAYS, breaks=25, probability=TRUE, main='PDF of PLANNING_PERIOD \\n (Mobile & IT)', \n",
    "     col='Navy', border='white', xlab='Right Skewed')\n",
    "lines(density(final_join_data_MITB$PERIOD_DAYS), col='red')\n",
    "\n",
    "hist(final_join_data_MITB$PERIOD_ACTUAL, breaks=25, probability=TRUE, main='PDF of ACTUAL_PERIOD \\n (Mobile & IT)', \n",
    "     col='Navy', border='white', xlab='Right Skewed')\n",
    "lines(density(final_join_data_MITB$PERIOD_ACTUAL), col='red')"
   ]
  },
  {
   "cell_type": "markdown",
   "id": "2762d585-5582-40d0-b864-666ce08a31c8",
   "metadata": {},
   "source": [
    "#### *Compare with the Normal Distribution*"
   ]
  },
  {
   "cell_type": "code",
   "execution_count": null,
   "id": "484fae44-4eac-4c10-9094-1aeff79ea63c",
   "metadata": {
    "vscode": {
     "languageId": "r"
    }
   },
   "outputs": [],
   "source": [
    "normx <- rnorm(n=10000, mean=0, sd=1)\n",
    "qqnorm(normx)\n",
    "qqline(normx, col='red')\n",
    "\n",
    "# Automobile\n",
    "qqnorm(final_join_data_EV$PERIOD_DAYS, main='QQPlot of PLANNING_PERIOD \\n (Auto Mobile)', col='Navy', \n",
    "       xlab='Right Skewed')\n",
    "qqline(final_join_data_EV$PERIOD_DAYS, col='red')\n",
    "\n",
    "qqnorm(final_join_data_EV$PERIOD_ACTUAL, main='QQPlot of ACTUAL_PERIOD \\n (Auto Mobile)', col='Navy', \n",
    "       xlab='Right Skewed')\n",
    "qqline(final_join_data_EV$PERIOD_ACTUAL, col='red')\n",
    "\n",
    "# Mobile & IT\n",
    "qqnorm(final_join_data_MITB$PERIOD_DAYS, main='QQPlot of PLANNING_PERIOD \\n (Mobile & IT)', col='Navy', \n",
    "       xlab='Right Skewed')\n",
    "qqline(final_join_data_MITB$PERIOD_DAYS, col='red')\n",
    "\n",
    "qqnorm(final_join_data_MITB$PERIOD_ACTUAL, main='QQPlot of ACTUAL_PERIOD \\n (Mobile & IT)', col='Navy', \n",
    "       xlab='Right Skewed')\n",
    "qqline(final_join_data_MITB$PERIOD_ACTUAL, col='red')"
   ]
  },
  {
   "cell_type": "markdown",
   "id": "33bf1c37-09ad-433c-93f2-8f9f7d73a886",
   "metadata": {},
   "source": [
    "#### *cannot reject H_0*"
   ]
  },
  {
   "cell_type": "code",
   "execution_count": null,
   "id": "936dfda2-f165-41dc-8770-d55e069d4eb3",
   "metadata": {
    "vscode": {
     "languageId": "r"
    }
   },
   "outputs": [],
   "source": [
    "shapiro.test(final_join_data_EV$PERIOD_ACTUAL) # p-value = 1.021e-05\n",
    "shapiro.test(final_join_data_EV$PERIOD_DAYS) # p-value = 1.585e-06\n",
    "\n",
    "shapiro.test(final_join_data_MITB$PERIOD_ACTUAL)# p-value < 2.2e-16\n",
    "shapiro.test(final_join_data_MITB$PERIOD_DAYS) # p-value < 2.2e-16"
   ]
  },
  {
   "cell_type": "markdown",
   "id": "a053cc72-4459-4959-a8b4-7a9122353805",
   "metadata": {},
   "source": [
    "### **2. scatter plot**"
   ]
  },
  {
   "cell_type": "code",
   "execution_count": null,
   "id": "7ac5d117-6697-4778-92e9-eb0d0596e996",
   "metadata": {
    "vscode": {
     "languageId": "r"
    }
   },
   "outputs": [],
   "source": [
    "plot(final_join_data_EV[,c(10, 11, 15, 16)]) # 뚜렷한 상관관계 or insight 없음"
   ]
  },
  {
   "cell_type": "markdown",
   "id": "ab79b9bc-ecc4-49f2-8a06-50e7329dd38b",
   "metadata": {},
   "source": [
    "###  **3. box plot of PERIOD_ACTUAL & PERIOD_DAYS for extract abnormal data**"
   ]
  },
  {
   "cell_type": "code",
   "execution_count": null,
   "id": "abc82b07-db32-44c5-bc67-d23d72f61364",
   "metadata": {
    "vscode": {
     "languageId": "r"
    }
   },
   "outputs": [],
   "source": [
    "# Auto Mobile\n",
    "Boxplot_EV_PLAN <- boxplot(final_join_data_EV$PERIOD_DAYS, col='Navy', main='BOX PLOT of PLANNING PERIOD \\n (Auto Mobile)', \n",
    "                           xlab=\"7 Outliers Found \\n (more than 1088 days)\")\n",
    "Boxplot_EV_ACTUAL <- boxplot(final_join_data_EV$PERIOD_ACTUAL, col='Navy', main='BOX PLOT of ACTUAL PERIOD \\n (Auto Mobile)', \n",
    "                             xlab=\"4 Outliers Found \\n (more than 830 days)\")\n",
    "\n",
    "# Mobile & IT\n",
    "Boxplot_MITB_PLAN <- boxplot(final_join_data_MITB$PERIOD_DAYS, col='Navy', main='BOX PLOT of PLANNING PERIOD \\n (Mobile & IT)', \n",
    "                             xlab=\"111 Outliers Found \\n (more than 194 days)\")\n",
    "Boxplot_MITB_ACTUAL <- boxplot(final_join_data_MITB$PERIOD_ACTUAL, col='Navy', main='BOX PLOT of ACTUAL PERIOD \\n (Mobile & IT)', \n",
    "                               xlab=\"42 Outliers Found \\n (more than 196 days)\")"
   ]
  },
  {
   "cell_type": "markdown",
   "id": "b4c90400-300a-4906-85fd-4d1c3fbda4d4",
   "metadata": {},
   "source": [
    "#### *Check the outlier & normal range*"
   ]
  },
  {
   "cell_type": "code",
   "execution_count": null,
   "id": "8f557798-23c9-420c-88ef-b7e5740f3bb2",
   "metadata": {
    "vscode": {
     "languageId": "r"
    }
   },
   "outputs": [],
   "source": [
    "# Auto mobile\n",
    "boxplot(final_join_data_EV$PERIOD_DAYS)$stats # 1 ~ 1088\n",
    "boxplot(final_join_data_EV$PERIOD_ACTUAL)$stats # 0 ~ 830\n",
    "\n",
    "# Mobile & IT\n",
    "boxplot(final_join_data_MITB$PERIOD_DAYS)$stats # 1 ~ 334 -> 247 -> 222 -> 210 -> 207 -> 200 -> 194 # 111개\n",
    "boxplot(final_join_data_MITB$PERIOD_ACTUAL)$stats # 0 ~ 239 -> 208 -> 196 # 42개"
   ]
  },
  {
   "cell_type": "markdown",
   "id": "f3204a05-6bc8-40c1-adee-05ad46d239ef",
   "metadata": {},
   "source": [
    "#### *Delete the outliers*"
   ]
  },
  {
   "cell_type": "code",
   "execution_count": null,
   "id": "07602087-a0f5-4266-a9df-f1b4f22c0411",
   "metadata": {
    "vscode": {
     "languageId": "r"
    }
   },
   "outputs": [],
   "source": [
    "# Auto Mobile\n",
    "final_join_data_EV <- final_join_data_EV[!(final_join_data_EV$PERIOD_DAYS >= 1088), ]\n",
    "final_join_data_EV <- final_join_data_EV[!(final_join_data_EV$PERIOD_ACTUAL >= 830), ]\n",
    "\n",
    "# Mobile & IT\n",
    "final_join_data_MITB <- final_join_data_MITB[!(final_join_data_MITB$PERIOD_DAYS >= 194), ]\n",
    "final_join_data_MITB <- final_join_data_MITB[!(final_join_data_MITB$PERIOD_ACTUAL >= 196), ]\n",
    "\n",
    "nrow(final_join_data_EV) # 127 -> 117 -> 116 # 11건 감소\n",
    "nrow(final_join_data_MITB) # 614 -> 464 -> 416 # 198건 감소"
   ]
  },
  {
   "cell_type": "markdown",
   "id": "6139d8b7-f9b3-4415-86a8-86a17cea0d61",
   "metadata": {},
   "source": [
    "#### *re-plotting*"
   ]
  },
  {
   "cell_type": "code",
   "execution_count": null,
   "id": "bc108dfa-1fd5-4c87-9f02-97e1c44e6db8",
   "metadata": {
    "vscode": {
     "languageId": "r"
    }
   },
   "outputs": [],
   "source": [
    "# Auto Mobile\n",
    "Boxplot_EV_PLAN <- boxplot(final_join_data_EV$PERIOD_DAYS, col='Navy', main='BOX PLOT of PLANNING PERIOD \\n (Auto Mobile)', \n",
    "                           xlab=\"0 Outliers Found \\n (Trim once)\")\n",
    "Boxplot_EV_ACTUAL <- boxplot(final_join_data_EV$PERIOD_ACTUAL, col='Navy', main='BOX PLOT of ACTUAL PERIOD \\n (Auto Mobile)', \n",
    "                             xlab=\"0 Outliers Found \\n (Trim once)\")\n",
    "\n",
    "# Mobile & IT\n",
    "Boxplot_MITB_PLAN <- boxplot(final_join_data_MITB$PERIOD_DAYS, col='Navy', main='BOX PLOT of PLANNING PERIOD \\n (Mobile & IT)', \n",
    "                             xlab=\"0 Outliers Found \\n (Trim 7 times)\")\n",
    "Boxplot_MITB_ACTUAL <- boxplot(final_join_data_MITB$PERIOD_ACTUAL, col='Navy', main='BOX PLOT of ACTUAL PERIOD \\n (Mobile & IT)', \n",
    "                               xlab=\"0 Outliers Found \\n (Trim 3 times)\")\n",
    "\n",
    "150/614\n",
    "10/127"
   ]
  },
  {
   "cell_type": "markdown",
   "id": "c245aca7-d1aa-415b-8e94-d4e30c0e4d60",
   "metadata": {},
   "source": [
    "### **4. Check the NA**"
   ]
  },
  {
   "cell_type": "markdown",
   "id": "92ebbd40-b37f-488b-9b77-1fc6bf09de5f",
   "metadata": {},
   "source": [
    "#### *in the MODEL GRADE & ACTIVITY TYPE NAME*"
   ]
  },
  {
   "cell_type": "code",
   "execution_count": null,
   "id": "43893a25-be69-4328-8062-bc21e8f1619a",
   "metadata": {
    "vscode": {
     "languageId": "r"
    }
   },
   "outputs": [],
   "source": [
    "sum(is.na(final_data_EV$MODEL_GRADE)) #0\n",
    "sum(is.na(final_data_EV$ACTIVITY_TYPE_NAME)) #0\n",
    "\n",
    "sum(is.na(final_join_data_MITB$MODEL_GRADE)) #0\n",
    "sum(is.na(final_join_data_MITB$ACTIVITY_TYPE_NAME)) #0"
   ]
  },
  {
   "cell_type": "markdown",
   "id": "c2430083-db97-47d2-9433-89c50d8fbe3b",
   "metadata": {},
   "source": [
    "#### *in the dummy var*"
   ]
  },
  {
   "cell_type": "code",
   "execution_count": null,
   "id": "aca8d533-6487-4213-a737-d1909d0b7b5b",
   "metadata": {
    "vscode": {
     "languageId": "r"
    }
   },
   "outputs": [],
   "source": [
    "# Automobile\n",
    "sum(is.na(final_join_data_EV$S_CV)) #0\n",
    "sum(is.na(final_join_data_EV$S_DV)) #0\n",
    "sum(is.na(final_join_data_EV$S_PD)) #0\n",
    "sum(is.na(final_join_data_EV$S_PV)) #0\n",
    "sum(is.na(final_join_data_EV$A_CV)) #0\n",
    "sum(is.na(final_join_data_EV$A_DV)) #0\n",
    "sum(is.na(final_join_data_EV$A_PD)) #0\n",
    "sum(is.na(final_join_data_EV$A_PV)) #0\n",
    "sum(is.na(final_join_data_EV$B_CV)) #0\n",
    "sum(is.na(final_join_data_EV$B_DV)) #0\n",
    "sum(is.na(final_join_data_EV$B_PD)) #0\n",
    "sum(is.na(final_join_data_EV$B_PV)) #0\n",
    "\n",
    "# Mobile & IT\n",
    "sum(is.na(final_join_data_MITB$S_CV)) #0\n",
    "sum(is.na(final_join_data_MITB$S_DV)) #0\n",
    "sum(is.na(final_join_data_MITB$S_PD)) #0\n",
    "sum(is.na(final_join_data_MITB$S_PV)) #0\n",
    "sum(is.na(final_join_data_MITB$A_CV)) #0\n",
    "sum(is.na(final_join_data_MITB$A_DV)) #0\n",
    "sum(is.na(final_join_data_MITB$A_PD)) #0\n",
    "sum(is.na(final_join_data_MITB$A_PV)) #0\n",
    "sum(is.na(final_join_data_MITB$B_CV)) #0\n",
    "sum(is.na(final_join_data_MITB$B_DV)) #0\n",
    "sum(is.na(final_join_data_MITB$B_PD)) #0\n",
    "sum(is.na(final_join_data_MITB$B_PV)) #0"
   ]
  },
  {
   "cell_type": "markdown",
   "id": "3a6483f3-1561-4718-b34f-6d52ac38de1c",
   "metadata": {},
   "source": [
    "### **5. histogram of PERIOD_ACTUAL & PERIOD_DAYS**"
   ]
  },
  {
   "cell_type": "markdown",
   "id": "b9820b78-a99d-4459-bba4-ddd637343e37",
   "metadata": {},
   "source": [
    "#### *re-plotting: Hypothesis Test for Normal Distribution*"
   ]
  },
  {
   "cell_type": "code",
   "execution_count": null,
   "id": "98c73ebf-602e-463d-9b6b-e74b3bcf6b9b",
   "metadata": {
    "vscode": {
     "languageId": "r"
    }
   },
   "outputs": [],
   "source": [
    "# Auto Mobile\n",
    "Hist_EV_PLAN <- hist(final_join_data_EV$PERIOD_ACTUAL, breaks=25, main='Histogram of PLANNING_PERIOD \\n (Auto Mobile)', col='Navy', \n",
    "                     border='Dark Slate Blue', xlab='Right Skewed')\n",
    "Hist_EV_ACTUAL <- hist(final_join_data_EV$PERIOD_DAYS, breaks=25, main='Histogram of ACTUAL_PERIOD \\n (Auto Mobile)', col='Navy', \n",
    "                       border='Dark Slate Blue', xlab='Right Skewed')\n",
    "\n",
    "# Mobile & IT\n",
    "Hist_MITB_PLAN <- hist(final_join_data_MITB$PERIOD_ACTUAL, breaks=25, main='Histogram of PLANNING_PERIOD \\n (Mobile & IT)', \n",
    "                       col='Navy', border='Dark Slate Blue', xlab='Right Skewed')\n",
    "Hist_MITB_ACTUAL <- hist(final_join_data_MITB$PERIOD_DAYS, breaks=25, main='Histogram of ACTUAL_PERIOD \\n (Mobile & IT)', \n",
    "                         col='Navy', border='Dark Slate Blue', xlab='Right Skewed')"
   ]
  },
  {
   "cell_type": "markdown",
   "id": "a5021a14-063a-4862-8175-bffc705fa320",
   "metadata": {},
   "source": [
    "#### *re-calculate the Skewness*"
   ]
  },
  {
   "cell_type": "code",
   "execution_count": null,
   "id": "04ea9de8-d307-4c8f-9032-79a5f14ae9f5",
   "metadata": {
    "vscode": {
     "languageId": "r"
    }
   },
   "outputs": [],
   "source": [
    "skewness(final_join_data_EV$PERIOD_DAYS)\n",
    "skewness(final_join_data_EV$PERIOD_ACTUAL)\n",
    "\n",
    "skewness(final_join_data_MITB$PERIOD_DAYS)\n",
    "skewness(final_join_data_MITB$PERIOD_ACTUAL)"
   ]
  },
  {
   "cell_type": "markdown",
   "id": "935926b4-a76a-4411-8ead-6e645aab744a",
   "metadata": {
    "tags": []
   },
   "source": [
    "#### *re-plot: Histogram to check the Probability Density*"
   ]
  },
  {
   "cell_type": "code",
   "execution_count": null,
   "id": "459f9c29-c6d0-4f3b-b4b5-7be5cb93925e",
   "metadata": {
    "vscode": {
     "languageId": "r"
    }
   },
   "outputs": [],
   "source": [
    "# Add the line graph on the plot --> next trial!\n",
    "hist(final_join_data_EV$PERIOD_DAYS, breaks=25, probability=TRUE, main='PDF of PLANNING_PERIOD \\n (Auto Mobile)', \n",
    "     col='Navy', border='white', xlab='Light Tailed')\n",
    "lines(density(final_join_data_EV$PERIOD_DAYS), col='red') \n",
    "\n",
    "hist(final_join_data_EV$PERIOD_ACTUAL, breaks=25, probability=TRUE, main='PDF of ACTUAL_PERIOD \\n (Auto Mobile)', \n",
    "     col='Navy', border='white', xlab='Light Tailed')\n",
    "lines(density(final_join_data_EV$PERIOD_ACTUAL), col='red')\n",
    "\n",
    "hist(final_join_data_MITB$PERIOD_DAYS, breaks=25, probability=TRUE, main='PDF of PLANNING_PERIOD \\n (Mobile & IT)', \n",
    "     col='Navy', border='white', xlab='Light Tailed')\n",
    "lines(density(final_join_data_MITB$PERIOD_DAYS), col='red')\n",
    "\n",
    "hist(final_join_data_MITB$PERIOD_ACTUAL, breaks=25, probability=TRUE, main='PDF of ACTUAL_PERIOD \\n (Mobile & IT)', \n",
    "     col='Navy', border='white', xlab='Light Tailed')\n",
    "lines(density(final_join_data_MITB$PERIOD_ACTUAL), col='red')"
   ]
  },
  {
   "cell_type": "markdown",
   "id": "5f002ba8-5b23-41ba-80da-488093438b0e",
   "metadata": {},
   "source": [
    "#### *re-compare with the Normal Distribution*"
   ]
  },
  {
   "cell_type": "code",
   "execution_count": null,
   "id": "759a7ae6-ed30-4dde-98ba-b8c8e77cac20",
   "metadata": {
    "vscode": {
     "languageId": "r"
    }
   },
   "outputs": [],
   "source": [
    "normx <- rnorm(n=10000, mean=0, sd=1)\n",
    "hist(normx, breaks=25, probability=TRUE, main='PDF of Normal Distribution',\n",
    "     col='Navy', border='white', xlab='Normal')\n",
    "lines(density(normx), col='red')\n",
    "\n",
    "qqnorm(normx, col='Navy')\n",
    "qqline(normx, col='red')"
   ]
  },
  {
   "cell_type": "code",
   "execution_count": null,
   "id": "1e89d285-0aa5-44c0-aa67-ebe2461ad82a",
   "metadata": {
    "vscode": {
     "languageId": "r"
    }
   },
   "outputs": [],
   "source": [
    "# Automobile\n",
    "qqnorm(final_join_data_EV$PERIOD_DAYS, main='QQPlot of PLANNING_PERIOD \\n (Auto Mobile)', col='Navy', \n",
    "       xlab='Light Tailed')\n",
    "qqline(final_join_data_EV$PERIOD_DAYS, col='red')\n",
    "\n",
    "qqnorm(final_join_data_EV$PERIOD_ACTUAL, main='QQPlot of ACTUAL_PERIOD \\n (Auto Mobile)', col='Navy', \n",
    "       xlab='Light Tailed')\n",
    "qqline(final_join_data_EV$PERIOD_ACTUAL, col='red')"
   ]
  },
  {
   "cell_type": "code",
   "execution_count": null,
   "id": "a04c3721-0753-48b4-9c1e-a9558b047684",
   "metadata": {
    "vscode": {
     "languageId": "r"
    }
   },
   "outputs": [],
   "source": [
    "# Mobile & IT\n",
    "qqnorm(final_join_data_MITB$PERIOD_DAYS, main='QQPlot of PLANNING_PERIOD \\n (Mobile & IT)', col='Navy', \n",
    "       xlab='Light Tailed')\n",
    "qqline(final_join_data_MITB$PERIOD_DAYS, col='red')\n",
    "\n",
    "qqnorm(final_join_data_MITB$PERIOD_ACTUAL, main='QQPlot of ACTUAL_PERIOD \\n (Mobile & IT)', col='Navy', \n",
    "       xlab='Light Tailed')\n",
    "qqline(final_join_data_MITB$PERIOD_ACTUAL, col='red')"
   ]
  },
  {
   "cell_type": "markdown",
   "id": "afe2c9ae-4559-4869-8b01-30ddf34f7ff1",
   "metadata": {},
   "source": [
    "#### *re-test: Shapiro-Wilk Test*"
   ]
  },
  {
   "cell_type": "code",
   "execution_count": null,
   "id": "b3f58f00-967e-4c4e-bb66-23efa03e3ba1",
   "metadata": {
    "vscode": {
     "languageId": "r"
    }
   },
   "outputs": [],
   "source": [
    "# cannot reject H_0\n",
    "shapiro.test(final_join_data_EV$PERIOD_ACTUAL) # p-value = 1.021e-05\n",
    "shapiro.test(final_join_data_EV$PERIOD_DAYS) # p-value = 1.585e-06\n",
    "\n",
    "shapiro.test(final_join_data_MITB$PERIOD_ACTUAL)# p-value < 2.2e-16\n",
    "shapiro.test(final_join_data_MITB$PERIOD_DAYS) # p-value < 2.2e-16"
   ]
  },
  {
   "cell_type": "markdown",
   "id": "a73cbbf0-10d4-492f-ae61-e936d7b39691",
   "metadata": {},
   "source": [
    "### **6. time-series plot for Period Differences between planning period and actual period**"
   ]
  },
  {
   "cell_type": "code",
   "execution_count": null,
   "id": "e58ba52d-035a-4e92-9319-d51150d38fb8",
   "metadata": {
    "vscode": {
     "languageId": "r"
    }
   },
   "outputs": [],
   "source": [
    "final_join_data_all <- rbind(final_join_data_EV, final_join_data_MITB)\n",
    "# View(final_join_data_all) # not supported in Jupyter R Kernel\n",
    "\n",
    "# main (Automobile + Mobile & IT)\n",
    "# change label name (buc_label) -> next trial!\n",
    "time_series_plot_main <- ggplot(final_join_data_all, aes(RESULT_START_DATE, Diff_Period, colour=BUSINESS_UNIT_CODE, group=BUSINESS_UNIT_CODE))+ \n",
    "  geom_line(size=1.07) + geom_point(size=1)\n",
    "\n",
    "datebreaks <- seq(min(final_join_data_all$RESULT_START_DATE), max(final_join_data_all$RESULT_START_DATE), by=\"12 month\")\n",
    "\n",
    "max(final_join_data_all$Diff_Period) # 812 > 562\n",
    "min(final_join_data_all$Diff_Period) # -786 (-)\n",
    "\n",
    "time_series_plot_main + \n",
    "  ggtitle(\"Time series, Period Difference btw Planning and Actual\") +\n",
    "  theme(plot.title=element_text(size=14, hjust = 0)) +\n",
    "  xlab(\"date\") + ylab(\"Period Diff btw Planning & Actual (days)\") +\n",
    "  labs(col = \"사업부\") + \n",
    "  scale_x_date(breaks=datebreaks) +\n",
    "  scale_y_continuous(breaks = seq(-800, 600, 300)) +\n",
    "  theme(axis.text.x = element_text(angle=30, hjust=1)) +\n",
    "  scale_color_manual(labels=c(\"Automobile\", \"Mobile & IT\"), values = c('Steel Blue', 'Navy'))"
   ]
  },
  {
   "cell_type": "code",
   "execution_count": null,
   "id": "22ae1b9b-7ea1-4e82-84de-9c7bf321bc56",
   "metadata": {
    "vscode": {
     "languageId": "r"
    }
   },
   "outputs": [],
   "source": [
    "# Automobile\n",
    "ggplot(final_join_data_EV, aes(RESULT_START_DATE, Diff_Period))+ \n",
    "  geom_line(size=1.1, color = 'Navy') + \n",
    "  ggtitle(\"Time series, Differences between Planning and Actual Date\") + \n",
    "  theme(plot.title=element_text(size=14))"
   ]
  },
  {
   "cell_type": "code",
   "execution_count": null,
   "id": "acaee1fc-11c5-4273-80eb-ecc241c77b06",
   "metadata": {
    "vscode": {
     "languageId": "r"
    }
   },
   "outputs": [],
   "source": [
    "# Mobile & IT\n",
    "ggplot(final_join_data_MITB, aes(RESULT_START_DATE, Diff_Period))+ \n",
    "  geom_line(size=1.1, color = 'Navy') + \n",
    "  ggtitle(\"Time series, Differences between Planning and Actual Date\") + \n",
    "  theme(plot.title=element_text(size=14))\n",
    "\n",
    "# View(final_join_data_EV) # not supported in Jupyter R Kernel"
   ]
  },
  {
   "cell_type": "markdown",
   "id": "95a5c1fa-cf9a-44d3-9422-40fcdd71b62a",
   "metadata": {},
   "source": [
    "### **7. Count Plot MODEL_GRADE~ACTIVITY_TYPE_NAME**"
   ]
  },
  {
   "cell_type": "code",
   "execution_count": null,
   "id": "a265d62a-d67e-4ffb-9469-c2848005b29d",
   "metadata": {
    "vscode": {
     "languageId": "r"
    }
   },
   "outputs": [],
   "source": [
    "# Automobile\n",
    "my.table_EV <- xtabs(~ ACTIVITY_TYPE_NAME+MODEL_GRADE, data = final_join_data_EV)\n",
    "my.table_EV\n",
    "\n",
    "# Mobile & IT\n",
    "my.table_MITB <- xtabs(~ ACTIVITY_TYPE_NAME+MODEL_GRADE, data = final_join_data_MITB)\n",
    "my.table_MITB\n",
    "\n",
    "Countplot <- barplot(my.table,\n",
    "                     xlab = 'MODEL_GRADE', \n",
    "                     ylab = 'Frequency', \n",
    "                     legend.text = TRUE)"
   ]
  },
  {
   "cell_type": "markdown",
   "id": "f6202ae7-ef9e-45c1-a7a8-c8aa7d0d174f",
   "metadata": {},
   "source": [
    "#### *just count*"
   ]
  },
  {
   "cell_type": "code",
   "execution_count": null,
   "id": "500a6673-fdfa-4e88-86cc-1c3af040237a",
   "metadata": {
    "vscode": {
     "languageId": "r"
    }
   },
   "outputs": [],
   "source": [
    "buc_label <- c(EV = \"Automobile\", MITB = \"Mobile & IT\")\n",
    "\n",
    "Countplot <- ggplot(final_join_data_all, aes(MODEL_GRADE, fill = ACTIVITY_TYPE_NAME)) + \n",
    "  geom_bar(stat = 'count', position = 'dodge' ,colour = 'Navy') + # position = 'dodge' \n",
    "  geom_text(aes(label = ..count..), stat = 'count', position = position_dodge(width = 1), vjust = -0.5, hjust = 0.5)\n",
    "\n",
    "Countplot + \n",
    "  facet_grid(~BUSINESS_UNIT_CODE, labeller = labeller(BUSINESS_UNIT_CODE = buc_label)) +\n",
    "  scale_fill_brewer(name = 'Gate') +\n",
    "  xlab(\"개발 등급\") + \n",
    "  ylab(\"count\") +\n",
    "  ggtitle(\"Count Plot\") +\n",
    "  scale_x_discrete(limits = c(\"S\", \"A\", \"B\"))\n",
    "\n",
    "# count + position = fill\n",
    "Countplot <- ggplot(final_join_data_all, aes(ACTIVITY_TYPE_NAME, fill = MODEL_GRADE)) + geom_bar(stat = 'count', position = 'fill')\n",
    "Countplot + \n",
    "  facet_grid(~BUSINESS_UNIT_CODE) +\n",
    "  scale_fill_brewer(palette = 'Paired')"
   ]
  },
  {
   "cell_type": "markdown",
   "id": "bbca2ba1-0a46-4ade-ad50-b9b373d79936",
   "metadata": {},
   "source": [
    "### **8. Scatter Plot**"
   ]
  },
  {
   "cell_type": "markdown",
   "id": "78fbacd5-54f1-425e-9598-0f1dcae2f424",
   "metadata": {},
   "source": [
    "#### **Automobile**\n",
    "#### *for the ACTUAL_PERIOD*"
   ]
  },
  {
   "cell_type": "code",
   "execution_count": null,
   "id": "2890b90f-23d2-424d-a855-e12a1cda596a",
   "metadata": {
    "vscode": {
     "languageId": "r"
    }
   },
   "outputs": [],
   "source": [
    "Scatterplot_actual_EV <- ggplot(data = final_join_data_EV,\n",
    "                                aes(x = MODEL_GRADE, y = PERIOD_ACTUAL, color = MODEL_GRADE)) +\n",
    "  geom_point(position = 'jitter') + facet_grid(~ACTIVITY_TYPE_NAME)\n",
    "\n",
    "Scatterplot_actual_EV\n",
    "Scatterplot_actual_EV + scale_color_manual(name = '개발 등급', values = c('Light Steel Blue', 'Royal Blue', 'Navy')) + \n",
    "  geom_boxplot(alpha = 0.1, color = 'black', fill = 'Navy') +\n",
    "  scale_x_discrete(limits = c(\"S\", \"A\", \"B\")) +\n",
    "  ggtitle(\"Scatter Plot (Actual Period) - Automobile\") +\n",
    "  xlab(\"개발 등급\") + \n",
    "  ylab(\"실적 기간 (days)\")"
   ]
  },
  {
   "cell_type": "markdown",
   "id": "acac7d3d-33c3-4eee-b6c7-b69d3cfea217",
   "metadata": {},
   "source": [
    "#### *for the PLANNED_PERIOD*"
   ]
  },
  {
   "cell_type": "code",
   "execution_count": null,
   "id": "bada9b5b-fdef-4e36-b4bd-a12fe3965fe4",
   "metadata": {
    "vscode": {
     "languageId": "r"
    }
   },
   "outputs": [],
   "source": [
    "Scatterplot_actual_EV <- ggplot(data = final_join_data_EV,\n",
    "                                aes(x = MODEL_GRADE, y = PERIOD_DAYS, color = MODEL_GRADE)) +\n",
    "  geom_point(position = 'jitter') + facet_grid(~ACTIVITY_TYPE_NAME)\n",
    "\n",
    "Scatterplot_actual_EV\n",
    "Scatterplot_actual_EV + scale_color_manual(name = '개발 등급', values = c('Light Steel Blue', 'Royal Blue', 'Navy')) + \n",
    "  geom_boxplot(alpha = 0.1, color = 'black', fill = 'Navy') +\n",
    "  scale_x_discrete(limits = c(\"S\", \"A\", \"B\")) +\n",
    "  ggtitle(\"Scatter Plot (Planning Period)\") +\n",
    "  xlab(\"개발 등급\") + \n",
    "  ylab(\"계획 기간 (days)\")"
   ]
  },
  {
   "cell_type": "markdown",
   "id": "0e268f41-d035-434e-8c48-c764cbea24ef",
   "metadata": {},
   "source": [
    "#### *for the DIFF_PERIOD*"
   ]
  },
  {
   "cell_type": "code",
   "execution_count": null,
   "id": "2a6ac60f-f921-4939-8038-b0c608e89164",
   "metadata": {
    "vscode": {
     "languageId": "r"
    }
   },
   "outputs": [],
   "source": [
    "Scatterplot_actual_EV <- ggplot(data = final_join_data_EV,\n",
    "                                aes(x = MODEL_GRADE, y = Diff_Period, color = MODEL_GRADE)) +\n",
    "  geom_point(position = 'jitter') + facet_grid(~ACTIVITY_TYPE_NAME)\n",
    "\n",
    "Scatterplot_actual_EV\n",
    "Scatterplot_actual_EV + scale_color_manual(name = '개발 등급', values = c('Light Steel Blue', 'Royal Blue', 'Navy')) + \n",
    "  geom_boxplot(alpha = 0.1, color = 'black', fill = 'Navy') +\n",
    "  scale_x_discrete(limits = c(\"S\", \"A\", \"B\")) +\n",
    "  ggtitle(\"Scatter Plot (Period Difference btw Planning & Actual)\") +\n",
    "  xlab(\"개발 등급\") + \n",
    "  ylab(\"Period Diff btw Planning & Actual (days)\")"
   ]
  },
  {
   "cell_type": "markdown",
   "id": "1f896bea-500e-4321-87b5-7d0d4a0329f4",
   "metadata": {},
   "source": [
    "#### **Mobile & IT**\n",
    "#### *for the ACTUAL_PERIOD*"
   ]
  },
  {
   "cell_type": "code",
   "execution_count": null,
   "id": "4f4aefe0-5015-4055-9152-1ea942ce4710",
   "metadata": {
    "vscode": {
     "languageId": "r"
    }
   },
   "outputs": [],
   "source": [
    "Scatterplot_actual_MITB <- ggplot(data = final_join_data_MITB,\n",
    "                                  aes(x = MODEL_GRADE, y = PERIOD_ACTUAL, color = MODEL_GRADE)) +\n",
    "  geom_point(position = 'jitter') + facet_grid(~ACTIVITY_TYPE_NAME)\n",
    "\n",
    "Scatterplot_actual_MITB\n",
    "Scatterplot_actual_MITB + scale_color_manual(name = '개발 등급', values = c('Light Steel Blue', 'Royal Blue', 'Navy')) + \n",
    "  geom_boxplot(alpha = 0.1, color = 'black', fill = 'Navy') +\n",
    "  scale_x_discrete(limits = c(\"S\", \"A\", \"B\")) +\n",
    "  ggtitle(\"Scatter Plot (Actual Period) - Mobile & IT\") +\n",
    "  xlab(\"개발 등급\") + \n",
    "  ylab(\"실적 기간 (days)\")"
   ]
  },
  {
   "cell_type": "markdown",
   "id": "2d8ae3be-98d1-4230-8919-49fe343f57a8",
   "metadata": {},
   "source": [
    "#### *for the PLANNING_PERIOD*"
   ]
  },
  {
   "cell_type": "code",
   "execution_count": null,
   "id": "d1a2d8da-0f1e-4fee-9bd0-ee8eac243757",
   "metadata": {
    "vscode": {
     "languageId": "r"
    }
   },
   "outputs": [],
   "source": [
    "Scatterplot_actual_MITB <- ggplot(data = final_join_data_MITB,\n",
    "                                  aes(x = MODEL_GRADE, y = PERIOD_DAYS, color = MODEL_GRADE)) +\n",
    "  geom_point(position = 'jitter') + facet_grid(~ACTIVITY_TYPE_NAME)\n",
    "\n",
    "Scatterplot_actual_MITB\n",
    "Scatterplot_actual_MITB + scale_color_manual(name = '개발 등급', values = c('Light Steel Blue', 'Royal Blue', 'Navy')) + \n",
    "  geom_boxplot(alpha = 0.1, color = 'black', fill = 'Navy') +\n",
    "  scale_x_discrete(limits = c(\"S\", \"A\", \"B\")) +\n",
    "  ggtitle(\"Scatter Plot (Planning Period)\") +\n",
    "  xlab(\"개발 등급\") + \n",
    "  ylab(\"계획 기간 (days)\")"
   ]
  },
  {
   "cell_type": "markdown",
   "id": "b46f594a-4582-4b5a-8589-88919e6f9c05",
   "metadata": {},
   "source": [
    "#### *for the DIFF_PERIOD*"
   ]
  },
  {
   "cell_type": "code",
   "execution_count": null,
   "id": "40985773-8c57-41d2-a2d2-ed0365960f60",
   "metadata": {
    "vscode": {
     "languageId": "r"
    }
   },
   "outputs": [],
   "source": [
    "Scatterplot_actual_MITB <- ggplot(data = final_join_data_MITB,\n",
    "                                  aes(x = MODEL_GRADE, y = Diff_Period, color = MODEL_GRADE)) +\n",
    "  geom_point(position = 'jitter') + facet_grid(~ACTIVITY_TYPE_NAME)\n",
    "\n",
    "Scatterplot_actual_MITB\n",
    "Scatterplot_actual_MITB + scale_color_manual(name = '개발 등급', values = c('Light Steel Blue', 'Royal Blue', 'Navy')) + \n",
    "  geom_boxplot(alpha = 0.1, color = 'black', fill = 'Navy') +\n",
    "  scale_x_discrete(limits = c(\"S\", \"A\", \"B\")) +\n",
    "  ggtitle(\"Scatter Plot (Period Difference btw Planning & Actual)\") +\n",
    "  xlab(\"개발 등급\") + \n",
    "  ylab(\"Period Diff btw Planning & Actual (days)\")"
   ]
  },
  {
   "cell_type": "markdown",
   "id": "439d3dca-bf29-481b-8cda-e3453e1844e4",
   "metadata": {},
   "source": [
    "## **Run the linear regression**"
   ]
  },
  {
   "cell_type": "markdown",
   "id": "1ca07222-c2aa-43f5-b7e4-031b7ed32c11",
   "metadata": {},
   "source": [
    "#### **Auto mobile Period Prediction Model**"
   ]
  },
  {
   "cell_type": "markdown",
   "id": "0979bf96-bacf-4143-a586-ac8edac7faf4",
   "metadata": {},
   "source": [
    "#### *Basegroup B_CV is not included (g-1)*"
   ]
  },
  {
   "cell_type": "code",
   "execution_count": null,
   "id": "47e85ef8-f68d-4ece-9276-a19eee7a022f",
   "metadata": {
    "vscode": {
     "languageId": "r"
    }
   },
   "outputs": [],
   "source": [
    "PERIOD_ACTUAL_EV <- final_join_data_EV$PERIOD_ACTUAL\n",
    "\n",
    "S_CV_EV <- final_join_data_EV$S_CV\n",
    "S_DV_EV <- final_join_data_EV$S_DV\n",
    "S_PD_EV <- final_join_data_EV$S_PD\n",
    "S_PV_EV <- final_join_data_EV$S_PV\n",
    "\n",
    "A_CV_EV <- final_join_data_EV$A_CV\n",
    "A_DV_EV <- final_join_data_EV$A_DV\n",
    "A_PD_EV <- final_join_data_EV$A_PD\n",
    "A_PV_EV <- final_join_data_EV$A_PV\n",
    "\n",
    "B_CV_EV <- final_join_data_EV$B_CV # base group\n",
    "B_DV_EV <- final_join_data_EV$B_DV\n",
    "B_PD_EV <- final_join_data_EV$B_PD\n",
    "B_PV_EV <- final_join_data_EV$B_PV"
   ]
  },
  {
   "cell_type": "markdown",
   "id": "7f66807b-7750-4eec-b80d-62706854e444",
   "metadata": {},
   "source": [
    "#### *first trial - only linear relationship*"
   ]
  },
  {
   "cell_type": "code",
   "execution_count": null,
   "id": "6a4fd9c9-d25a-4e86-8ce1-58ddf7b4c946",
   "metadata": {
    "vscode": {
     "languageId": "r"
    }
   },
   "outputs": [],
   "source": [
    "reg1.PERIOD_EV <- lm(PERIOD_ACTUAL_EV~S_CV_EV+S_DV_EV+S_PD_EV+S_PV_EV+\n",
    "                       A_CV_EV+A_DV_EV+A_PD_EV+A_PV_EV+\n",
    "                       B_DV_EV+B_PD_EV+B_PV_EV)\n",
    "summary(reg1.PERIOD_EV)"
   ]
  },
  {
   "cell_type": "markdown",
   "id": "571e3d98-761a-45f8-9b92-a13cad4d790c",
   "metadata": {},
   "source": [
    "#### *Second trial - Linear relationship & Delete biased variables (A_PV_EV: 0.99541, A_CV_EV: 0.5302)*"
   ]
  },
  {
   "cell_type": "code",
   "execution_count": null,
   "id": "25ddaf77-f0ac-4732-b12a-4cc6df2f89e8",
   "metadata": {
    "vscode": {
     "languageId": "r"
    }
   },
   "outputs": [],
   "source": [
    "reg1_1.PERIOD_EV <- lm(PERIOD_ACTUAL_EV~S_DV_EV+S_PD_EV+B_DV_EV)\n",
    "summary(reg1_1.PERIOD_EV)"
   ]
  },
  {
   "cell_type": "markdown",
   "id": "455a922f-3495-4f30-9f57-be3e077f116a",
   "metadata": {},
   "source": [
    "#### *Third trial - including non-linear relationship*"
   ]
  },
  {
   "cell_type": "code",
   "execution_count": null,
   "id": "ed8e4763-fb0c-4d6c-abf5-842baf883afe",
   "metadata": {
    "vscode": {
     "languageId": "r"
    }
   },
   "outputs": [],
   "source": [
    "# square, log\n",
    "PERIOD_ACTUAL_EV_square <- (final_join_data_EV$PERIOD_ACTUAL)^2\n",
    "PERIOD_ACTUAL_EV_ln <- log(final_join_data_EV$PERIOD_ACTUAL)\n",
    "typeof(PERIOD_ACTUAL_EV_ln)\n",
    "\n",
    "# Squared Form - B_CV_EV: Base group\n",
    "reg2.PERIOD_EV <- lm(PERIOD_ACTUAL_EV_square~S_CV_EV+S_DV_EV+S_PD_EV+S_PV_EV+\n",
    "                       A_CV_EV+A_DV_EV+A_PD_EV+A_PV_EV+\n",
    "                       B_DV_EV+B_PD_EV+B_PV_EV)\n",
    "summary(reg2.PERIOD_EV)"
   ]
  },
  {
   "cell_type": "markdown",
   "id": "f4b4c5a5-d009-4814-9a06-adcd9fb903e6",
   "metadata": {},
   "source": [
    "#### *3-1) Squared Form & Delete Biased Variables*"
   ]
  },
  {
   "cell_type": "code",
   "execution_count": null,
   "id": "65791b1f-6ec0-4f24-b279-1b289a97e82d",
   "metadata": {
    "vscode": {
     "languageId": "r"
    }
   },
   "outputs": [],
   "source": [
    "reg2_1.PERIOD_EV <- lm(PERIOD_ACTUAL_EV_square~S_DV_EV+S_PD_EV+B_DV_EV)\n",
    "summary(reg2_1.PERIOD_EV)"
   ]
  },
  {
   "cell_type": "markdown",
   "id": "6d390930-9ca2-4ed6-ae6a-502f877fc2bb",
   "metadata": {},
   "source": [
    "#### *3-2) Log Form - B_CV_EV: Base group*"
   ]
  },
  {
   "cell_type": "code",
   "execution_count": null,
   "id": "4961fd5f-2ca6-4380-a1d2-06f417d531a7",
   "metadata": {
    "vscode": {
     "languageId": "r"
    }
   },
   "outputs": [],
   "source": [
    "reg3.PERIOD_EV <- lm(PERIOD_ACTUAL_EV_ln~S_CV_EV+S_DV_EV+S_PD_EV+S_PV_EV+\n",
    "                       A_CV_EV+A_DV_EV+A_PD_EV+A_PV_EV+A_PD_EV+\n",
    "                       B_DV_EV+B_PD_EV+B_PV_EV)\n",
    "summary(reg3.PERIOD_EV)\n",
    "(88583)^(1/2)"
   ]
  },
  {
   "cell_type": "markdown",
   "id": "4bc8bc73-42fd-4259-a9e0-147dfcbe5259",
   "metadata": {},
   "source": [
    "#### *Second Trial - Log Form & Delete Biased Variables*"
   ]
  },
  {
   "cell_type": "code",
   "execution_count": null,
   "id": "b6c5eb32-edf3-458c-8c59-d82aeaf00174",
   "metadata": {
    "vscode": {
     "languageId": "r"
    }
   },
   "outputs": [],
   "source": [
    "reg3_1.PERIOD_EV <- lm(PERIOD_ACTUAL_EV_ln~S_CV_EV+S_DV_EV+S_PD_EV+\n",
    "                         A_DV_EV+\n",
    "                         B_DV_EV+B_PD_EV+B_PV_EV)\n",
    "summary(reg3_1.PERIOD_EV)"
   ]
  },
  {
   "cell_type": "markdown",
   "id": "69a67401-756a-4f2e-b3d4-aa226c89a79c",
   "metadata": {},
   "source": [
    "### **Mobile & IT Period Prediction Model**\n",
    "#### *Basegroup B_CV_MITB is not included (g-1)*\n",
    "#### *first trial - only linear relationship*"
   ]
  },
  {
   "cell_type": "code",
   "execution_count": null,
   "id": "e44e83ee-39ee-4567-bc2e-fa6954248088",
   "metadata": {
    "vscode": {
     "languageId": "r"
    }
   },
   "outputs": [],
   "source": [
    "PERIOD_ACTUAL_MITB <- final_join_data_MITB$PERIOD_ACTUAL\n",
    "\n",
    "S_CV_MITB <- final_join_data_MITB$S_CV\n",
    "S_DV_MITB <- final_join_data_MITB$S_DV\n",
    "S_PD_MITB <- final_join_data_MITB$S_PD\n",
    "S_PV_MITB <- final_join_data_MITB$S_PV\n",
    "\n",
    "A_CV_MITB <- final_join_data_MITB$A_CV\n",
    "A_DV_MITB <- final_join_data_MITB$A_DV\n",
    "A_PD_MITB <- final_join_data_MITB$A_PD\n",
    "A_PV_MITB <- final_join_data_MITB$A_PV\n",
    "\n",
    "B_CV_MITB <- final_join_data_MITB$B_CV # base group\n",
    "B_DV_MITB <- final_join_data_MITB$B_DV\n",
    "B_PD_MITB <- final_join_data_MITB$B_PD\n",
    "B_PV_MITB <- final_join_data_MITB$B_PV\n",
    "exp(5.0247)\n",
    "\n",
    "reg1.PERIOD_MITB <- lm(PERIOD_ACTUAL_MITB~S_CV_MITB+S_DV_MITB+S_PD_MITB+S_PV_MITB+\n",
    "                         A_CV_MITB+A_DV_MITB+A_PD_MITB+A_PV_MITB+\n",
    "                         B_DV_MITB+B_PD_MITB+B_PV_MITB)\n",
    "summary(reg1.PERIOD_MITB)"
   ]
  },
  {
   "cell_type": "markdown",
   "id": "2e6a61be-1f12-4038-8ba6-34ee1d49e25a",
   "metadata": {},
   "source": [
    "#### *Check the MLR Assumption*"
   ]
  },
  {
   "cell_type": "code",
   "execution_count": null,
   "id": "281c8574-3ad0-444c-b5a9-7b7865d53db0",
   "metadata": {
    "vscode": {
     "languageId": "r"
    }
   },
   "outputs": [],
   "source": [
    "y_hat <- reg1.PERIOD_MITB$fitted.values\n",
    "y <- PERIOD_ACTUAL_MITB\n",
    "u_hat <- y - y_hat\n",
    "\n",
    "hist(u_hat, breaks=25, probability=TRUE, main='PDF of Normal Distribution',\n",
    "     col='Navy', border='white', xlab='Normal')\n",
    "lines(density(u_hat), col='red')\n",
    "\n",
    "qqnorm(u_hat, col='Navy')\n",
    "qqline(u_hat, col='red')"
   ]
  },
  {
   "cell_type": "markdown",
   "id": "f01a1192-0926-445c-88e5-01521361b5de",
   "metadata": {},
   "source": [
    "#### *re-test: Shapiro-Wilk Test*"
   ]
  },
  {
   "cell_type": "code",
   "execution_count": null,
   "id": "4571a8d5-73c4-49f7-b980-ce67426e5a2d",
   "metadata": {
    "vscode": {
     "languageId": "r"
    }
   },
   "outputs": [],
   "source": [
    "# cannot reject H_0\n",
    "shapiro.test(u_hat) # p-value = 1.021e-05\n",
    "skewness(u_hat)"
   ]
  },
  {
   "cell_type": "markdown",
   "id": "7c62ceb7-f80b-4f4a-bad9-58e3fedb7ff3",
   "metadata": {},
   "source": [
    "#### *Second trial - linear relationship & Delete biased variables (S_PD_MITB: 0.629415)*"
   ]
  },
  {
   "cell_type": "code",
   "execution_count": null,
   "id": "0bbf3b5c-e586-4c19-8ff0-190aea71c0f9",
   "metadata": {
    "vscode": {
     "languageId": "r"
    }
   },
   "outputs": [],
   "source": [
    "reg2.PERIOD_MITB <- lm(PERIOD_ACTUAL_MITB~S_CV_MITB+S_DV_MITB+S_PV_MITB+\n",
    "                         A_CV_MITB+A_DV_MITB+A_PD_MITB+A_PV_MITB+\n",
    "                         B_DV_MITB+B_PD_MITB+B_PV_MITB)\n",
    "summary(reg2.PERIOD_MITB)"
   ]
  },
  {
   "cell_type": "markdown",
   "id": "7571a219-e63c-440c-8a5a-2906d71acbb9",
   "metadata": {},
   "source": [
    "#### *Check the MLR Assumption*"
   ]
  },
  {
   "cell_type": "code",
   "execution_count": null,
   "id": "f2435603-260c-4adf-afb5-b71c271814d9",
   "metadata": {
    "vscode": {
     "languageId": "r"
    }
   },
   "outputs": [],
   "source": [
    "y_hat_2 <- reg2.PERIOD_MITB$fitted.values\n",
    "y <- PERIOD_ACTUAL_MITB\n",
    "u_hat_2 <- y - y_hat_2\n",
    "\n",
    "hist(u_hat_2, breaks=25, probability=TRUE, main='PDF of Normal Distribution',\n",
    "     col='Navy', border='white', xlab='Normal')\n",
    "lines(density(u_hat_2), col='red')\n",
    "\n",
    "qqnorm(u_hat_2, col='Navy')\n",
    "qqline(u_hat_2, col='red')"
   ]
  },
  {
   "cell_type": "markdown",
   "id": "847ebd61-a5cc-4b1a-845e-5dd4e5b3eb66",
   "metadata": {},
   "source": [
    "#### *re-test: Shapiro-Wilk Test*"
   ]
  },
  {
   "cell_type": "code",
   "execution_count": null,
   "id": "732dc4a2-e54e-44d2-ab0f-e0f41faab5ba",
   "metadata": {
    "vscode": {
     "languageId": "r"
    }
   },
   "outputs": [],
   "source": [
    "# cannot reject H_0\n",
    "shapiro.test(u_hat_2) # p-value = 1.021e-05\n",
    "skewness(u_hat_2)"
   ]
  },
  {
   "cell_type": "markdown",
   "id": "4cf92048-a777-4a04-a2b8-0e75518348d4",
   "metadata": {},
   "source": [
    "#### *Non-linear Relationship > Next Trial!*"
   ]
  },
  {
   "cell_type": "code",
   "execution_count": null,
   "id": "22867386-129f-4eab-97a3-daa4a617c073",
   "metadata": {
    "vscode": {
     "languageId": "r"
    }
   },
   "outputs": [],
   "source": [
    "PERIOD_ACTUAL_MITB_ln <- log(PERIOD_ACTUAL_MITB) # -Inf\n",
    "PERIOD_ACTUAL_MITB_sq <- (PERIOD_ACTUAL_MITB)^2"
   ]
  },
  {
   "cell_type": "markdown",
   "id": "ee986e2d-c9fd-478a-b478-b47f681e76db",
   "metadata": {},
   "source": [
    "#### *Third trial - non-linear relationship(squared)*"
   ]
  },
  {
   "cell_type": "code",
   "execution_count": null,
   "id": "5a29e1d4-aea5-4089-a507-e5eb61de14b9",
   "metadata": {
    "vscode": {
     "languageId": "r"
    }
   },
   "outputs": [],
   "source": [
    "reg3.PERIOD_MITB <- lm(PERIOD_ACTUAL_MITB_sq~S_CV_MITB+S_DV_MITB+S_PV_MITB+S_PD_MITB+\n",
    "                         A_CV_MITB+A_DV_MITB+A_PD_MITB+A_PV_MITB+\n",
    "                         B_DV_MITB+B_PD_MITB+B_PV_MITB)\n",
    "summary(reg3.PERIOD_MITB)"
   ]
  },
  {
   "cell_type": "markdown",
   "id": "8420ef5f-4954-41c7-9295-720cd402bff1",
   "metadata": {},
   "source": [
    "#### *Forth trial - non-linear relationship(log)*"
   ]
  },
  {
   "cell_type": "code",
   "execution_count": null,
   "id": "70e4d37e-d164-4f68-879a-b18344ae4c5d",
   "metadata": {
    "vscode": {
     "languageId": "r"
    }
   },
   "outputs": [],
   "source": [
    "reg4.PERIOD_MITB <- lm(PERIOD_ACTUAL_MITB_ln~S_CV_MITB+S_DV_MITB+S_PV_MITB+S_PD_MITB+\n",
    "                         A_CV_MITB+A_DV_MITB+A_PD_MITB+A_PV_MITB+\n",
    "                         B_DV_MITB+B_PD_MITB+B_PV_MITB)\n",
    "summary(reg4.PERIOD_MITB)\n",
    "\n",
    "reg4_1.PERIOD_MITB <- lm(PERIOD_ACTUAL_MITB_ln~S_CV_MITB+S_DV_MITB+S_PV_MITB+\n",
    "                         A_CV_MITB+A_DV_MITB+A_PD_MITB+A_PV_MITB+\n",
    "                         B_DV_MITB+B_PD_MITB+B_PV_MITB)\n",
    "summary(reg4_1.PERIOD_MITB)"
   ]
  },
  {
   "cell_type": "markdown",
   "id": "fd829171-c632-4e9a-b68b-a0fbb40a854b",
   "metadata": {},
   "source": [
    "#### *Check the MLR Assumption*"
   ]
  },
  {
   "cell_type": "code",
   "execution_count": null,
   "id": "f9fb7b26-04ab-45da-b662-00d164bdb801",
   "metadata": {
    "vscode": {
     "languageId": "r"
    }
   },
   "outputs": [],
   "source": [
    "y_hat_4_1 <- reg4_1.PERIOD_MITB$fitted.values\n",
    "y <- PERIOD_ACTUAL_MITB\n",
    "u_hat_4_1 <- y - y_hat_4_1\n",
    "\n",
    "hist(u_hat_4_1, breaks=25, probability=TRUE, main='PDF of Normal Distribution',\n",
    "     col='Navy', border='white', xlab='Normal')\n",
    "lines(density(u_hat_4_1), col='red')\n",
    "\n",
    "qqnorm(u_hat_4_1, col='Navy')\n",
    "qqline(u_hat_4_1, col='red')"
   ]
  },
  {
   "cell_type": "markdown",
   "id": "2843d47e-d23a-4f74-a0b0-d9097d487f34",
   "metadata": {},
   "source": [
    "#### *re-test: Shapiro-Wilk Test*"
   ]
  },
  {
   "cell_type": "code",
   "execution_count": null,
   "id": "367e5ebe-e1c3-48a9-b469-120a2a9231b6",
   "metadata": {
    "vscode": {
     "languageId": "r"
    }
   },
   "outputs": [],
   "source": [
    "# cannot reject H_0\n",
    "shapiro.test(u_hat_4_1) # p-value = 1.021e-05\n",
    "skewness(u_hat_4_1) # Gate 단계별로 분포를 가짐"
   ]
  },
  {
   "cell_type": "markdown",
   "id": "ec4f9530-b3a1-4234-a6b7-430d6a9dc811",
   "metadata": {},
   "source": [
    "## **Write the final excel file on your local PC**"
   ]
  },
  {
   "cell_type": "code",
   "execution_count": null,
   "id": "e98ceaf6-a380-4146-9f50-00fa9e5389f7",
   "metadata": {
    "vscode": {
     "languageId": "r"
    }
   },
   "outputs": [],
   "source": [
    "write_xlsx(final_join_data_MITB, path=\"C://Users//LG//Desktop//IBT//배치부서특화//과제_8월//WBS일정계획//raw data//2차추출_all//final_data_MITB_add.xlsx\")\n",
    "write_xlsx(final_join_data_EV, path=\"C://Users//LG//Desktop//IBT//배치부서특화//과제_8월//WBS일정계획//raw data//2차추출_all//final_data_EV_add.xlsx\")"
   ]
  }
 ],
 "metadata": {
  "kernelspec": {
   "display_name": "R",
   "language": "R",
   "name": "ir"
  },
  "language_info": {
   "codemirror_mode": "r",
   "file_extension": ".r",
   "mimetype": "text/x-r-source",
   "name": "R",
   "pygments_lexer": "r",
   "version": "3.6.1"
  }
 },
 "nbformat": 4,
 "nbformat_minor": 5
}
